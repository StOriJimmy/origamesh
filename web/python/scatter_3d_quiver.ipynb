{
 "cells": [
  {
   "cell_type": "code",
   "execution_count": 1,
   "metadata": {},
   "outputs": [],
   "source": [
    "import plotly.plotly as py\n",
    "import plotly.graph_objs as go\n",
    "import pandas as pd\n",
    "import numpy as np\n",
    "from plyfile import PlyData, PlyElement\n",
    "import urllib\n",
    "\n",
    "py.sign_in('StOriJimmy', 'EurD902jmGKRDPG0njC0')"
   ]
  },
  {
   "cell_type": "code",
   "execution_count": 2,
   "metadata": {},
   "outputs": [],
   "source": [
    "req = urllib.request.Request('http://www.origamesh.com/ply/option-0000.ply') \n",
    "opener = urllib.request.build_opener()\n",
    "f = opener.open(req)\n",
    "plydata = PlyData.read(f)\n",
    "\n",
    "nr_points=plydata.elements[0].count\n",
    "points=np.array([plydata['vertex'][k] for k in range(nr_points)])\n",
    "\n",
    "x,y,z,nx,ny,nz,cx,cy,cz,scale = zip(*points)"
   ]
  },
  {
   "cell_type": "code",
   "execution_count": 22,
   "metadata": {
    "scrolled": false
   },
   "outputs": [
    {
     "data": {
      "text/html": [
       "<iframe id=\"igraph\" scrolling=\"no\" style=\"border:none;\" seamless=\"seamless\" src=\"https://plot.ly/~StOriJimmy/12.embed\" height=\"700px\" width=\"800px\"></iframe>"
      ],
      "text/plain": [
       "<plotly.tools.PlotlyDisplay object>"
      ]
     },
     "execution_count": 22,
     "metadata": {},
     "output_type": "execute_result"
    }
   ],
   "source": [
    "line_x = []\n",
    "line_y = []\n",
    "line_z = []\n",
    "data = []\n",
    "slider_scale = 0.2\n",
    "for i in range(0, nr_points):    \n",
    "    line_x.append(x[i])\n",
    "    line_x.append(x[i] + nx[i] * slider_scale)\n",
    "    line_x.append(None)\n",
    "    line_y.append(y[i])\n",
    "    line_y.append(y[i] + ny[i] * slider_scale)\n",
    "    line_y.append(None)\n",
    "    line_z.append(z[i])\n",
    "    line_z.append(z[i] + nz[i] * slider_scale)\n",
    "    line_z.append(None)\n",
    "\n",
    "quiver = dict(\n",
    "    x = line_x,\n",
    "    y = line_y,\n",
    "    z = line_z,\n",
    "    name = \"normal\",\n",
    "    type = \"scatter3d\",\n",
    "    mode= 'lines',\n",
    "    line = dict(color='#1f77b4', width = 1)\n",
    ")\n",
    "data.append(quiver)\n",
    "\n",
    "points = dict(\n",
    "    x = x, y = y, z = z,\n",
    "    name = \"points\",\n",
    "    type = \"scatter3d\",\n",
    "    mode = 'markers',\n",
    "    marker = dict(size = 2, color = scale, showscale = True,\n",
    "                  colorbar = dict(len = 0.8, title = 'scale'),\n",
    "                  colorscale = [[0, \"rgb(255,255,204)\"], \n",
    "                                [0.35, \"rgb(161, 218, 180)\"], \n",
    "                                [0.5, \"rgb(65, 182, 196)\"], \n",
    "                                [0.6, \"rgb(44, 127, 184)\"], \n",
    "                                [0.7, \"rgb(8, 104, 172)\"], \n",
    "                                [1, \"rgb(37, 52, 148)\"]])\n",
    ")          \n",
    "data.append(points)\n",
    "\n",
    "axis = dict(gridcolor='rgb(255, 255, 255)',     \n",
    "            zerolinecolor='rgb(255, 255, 255)',\n",
    "            showbackground=True,\n",
    "            backgroundcolor='rgb(230, 230, 230)')\n",
    "layout = dict(\n",
    "    width=800,\n",
    "    height=700,\n",
    "    autosize=False,\n",
    "    title='points with normal',\n",
    "    scene=dict(\n",
    "        xaxis = axis,\n",
    "        yaxis = axis,\n",
    "        zaxis = axis,\n",
    "        camera = dict(\n",
    "            up = dict(x = 0, y = 0, z = 1),\n",
    "            eye=dict(x = -1.7428, y = 1.0707, z = 0.7100)\n",
    "        ),\n",
    "        aspectratio = dict(x = 1, y = 1, z = 1),\n",
    "        aspectmode = 'manual',\n",
    "    ),\n",
    ")\n",
    "fig = go.Figure(data=data, layout=layout)\n",
    "py.iplot(fig, filename = 'scatter_3d_point_quiver')"
   ]
  },
  {
   "cell_type": "code",
   "execution_count": null,
   "metadata": {},
   "outputs": [],
   "source": []
  }
 ],
 "metadata": {
  "kernelspec": {
   "display_name": "Python 3",
   "language": "python",
   "name": "python3"
  },
  "language_info": {
   "codemirror_mode": {
    "name": "ipython",
    "version": 3
   },
   "file_extension": ".py",
   "mimetype": "text/x-python",
   "name": "python",
   "nbconvert_exporter": "python",
   "pygments_lexer": "ipython3",
   "version": "3.4.3"
  }
 },
 "nbformat": 4,
 "nbformat_minor": 2
}
